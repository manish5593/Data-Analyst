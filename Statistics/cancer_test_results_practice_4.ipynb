{
 "cells": [
  {
   "cell_type": "markdown",
   "metadata": {
    "collapsed": true
   },
   "source": [
    "# Cancer Test Results"
   ]
  },
  {
   "cell_type": "code",
   "execution_count": 4,
   "metadata": {},
   "outputs": [
    {
     "data": {
      "text/plain": [
       "<bound method NDFrame.head of       patient_id test_result  has_cancer\n",
       "0          79452    Negative       False\n",
       "1          81667    Positive        True\n",
       "2          76297    Negative       False\n",
       "3          36593    Negative       False\n",
       "4          53717    Negative       False\n",
       "5          67134    Negative       False\n",
       "6          40436    Negative       False\n",
       "7          77872    Positive        True\n",
       "8          78761    Positive        True\n",
       "9          71212    Negative       False\n",
       "10         66393    Positive       False\n",
       "11         35104    Negative       False\n",
       "12         74296    Negative       False\n",
       "13         56940    Positive       False\n",
       "14         56242    Negative       False\n",
       "15         56175    Positive        True\n",
       "16         45732    Negative       False\n",
       "17         35367    Negative       False\n",
       "18         34126    Negative       False\n",
       "19         76668    Negative       False\n",
       "20         51722    Negative       False\n",
       "21         51194    Negative       False\n",
       "22         76364    Negative       False\n",
       "23         63803    Negative       False\n",
       "24         35843    Negative       False\n",
       "25         57623    Negative       False\n",
       "26         32825    Positive       False\n",
       "27         66647    Negative       False\n",
       "28         65463    Negative       False\n",
       "29         77591    Negative       False\n",
       "...          ...         ...         ...\n",
       "2884       32031    Negative       False\n",
       "2885       39022    Negative       False\n",
       "2886       81033    Negative       False\n",
       "2887       64791    Positive        True\n",
       "2888       75201    Negative       False\n",
       "2889       53368    Positive        True\n",
       "2890       38830    Negative       False\n",
       "2891       42570    Negative       False\n",
       "2892       54947    Positive       False\n",
       "2893       31596    Negative       False\n",
       "2894       42476    Negative       False\n",
       "2895       49026    Negative       False\n",
       "2896       32894    Negative       False\n",
       "2897       52828    Negative       False\n",
       "2898       32116    Negative       False\n",
       "2899       79534    Negative       False\n",
       "2900       48273    Negative       False\n",
       "2901       36766    Negative       False\n",
       "2902       57527    Positive       False\n",
       "2903       72709    Positive       False\n",
       "2904       74064    Positive       False\n",
       "2905       39654    Negative       False\n",
       "2906       40038    Negative       False\n",
       "2907       45242    Negative       False\n",
       "2908       41566    Negative       False\n",
       "2909       39378    Negative       False\n",
       "2910       58684    Negative       False\n",
       "2911       64038    Negative       False\n",
       "2912       61290    Positive       False\n",
       "2913       75721    Positive       False\n",
       "\n",
       "[2914 rows x 3 columns]>"
      ]
     },
     "execution_count": 4,
     "metadata": {},
     "output_type": "execute_result"
    }
   ],
   "source": [
    "# load dataset\n",
    "import pandas as pd\n",
    "df = pd.read_csv('cancer_test_data.csv')\n",
    "df.head"
   ]
  },
  {
   "cell_type": "code",
   "execution_count": 5,
   "metadata": {},
   "outputs": [
    {
     "data": {
      "text/plain": [
       "(2914, 3)"
      ]
     },
     "execution_count": 5,
     "metadata": {},
     "output_type": "execute_result"
    }
   ],
   "source": [
    "# number of patients\n",
    "df.shape"
   ]
  },
  {
   "cell_type": "code",
   "execution_count": 7,
   "metadata": {},
   "outputs": [
    {
     "data": {
      "text/plain": [
       "306"
      ]
     },
     "execution_count": 7,
     "metadata": {},
     "output_type": "execute_result"
    }
   ],
   "source": [
    "# number of patients with cancer\n",
    "df.has_cancer.sum()"
   ]
  },
  {
   "cell_type": "code",
   "execution_count": 11,
   "metadata": {},
   "outputs": [
    {
     "data": {
      "text/plain": [
       "2608"
      ]
     },
     "execution_count": 11,
     "metadata": {},
     "output_type": "execute_result"
    }
   ],
   "source": [
    "# number of patients without cancer\n",
    "(df['has_cancer']==False).sum()"
   ]
  },
  {
   "cell_type": "code",
   "execution_count": 12,
   "metadata": {},
   "outputs": [
    {
     "data": {
      "text/plain": [
       "0.10501029512697323"
      ]
     },
     "execution_count": 12,
     "metadata": {},
     "output_type": "execute_result"
    }
   ],
   "source": [
    "# proportion of patients with cancer\n",
    "df.has_cancer.sum()/2914"
   ]
  },
  {
   "cell_type": "code",
   "execution_count": 13,
   "metadata": {},
   "outputs": [
    {
     "data": {
      "text/plain": [
       "0.8949897048730268"
      ]
     },
     "execution_count": 13,
     "metadata": {},
     "output_type": "execute_result"
    }
   ],
   "source": [
    "# proportion of patients without cancer\n",
    "(df['has_cancer']==False).sum()/2914"
   ]
  },
  {
   "cell_type": "code",
   "execution_count": 33,
   "metadata": {},
   "outputs": [
    {
     "data": {
      "text/plain": [
       "0.9052287581699346"
      ]
     },
     "execution_count": 33,
     "metadata": {},
     "output_type": "execute_result"
    }
   ],
   "source": [
    "# proportion of patients with cancer who test positive\n",
    "#((df['test_result']=='Positive') & (df.has_cancer)).mean()\n",
    "(df.query('has_cancer')['test_result'] == 'Positive').mean()"
   ]
  },
  {
   "cell_type": "code",
   "execution_count": 34,
   "metadata": {},
   "outputs": [
    {
     "data": {
      "text/plain": [
       "0.09477124183006536"
      ]
     },
     "execution_count": 34,
     "metadata": {},
     "output_type": "execute_result"
    }
   ],
   "source": [
    "# proportion of patients with cancer who test negative\n",
    "(df.query('has_cancer')['test_result'] == 'Negative').mean()"
   ]
  },
  {
   "cell_type": "code",
   "execution_count": 39,
   "metadata": {},
   "outputs": [
    {
     "data": {
      "text/plain": [
       "0.2036042944785276"
      ]
     },
     "execution_count": 39,
     "metadata": {},
     "output_type": "execute_result"
    }
   ],
   "source": [
    "# proportion of patients without cancer who test positive\n",
    "(df.query('has_cancer ==False')['test_result'] == 'Positive').mean()"
   ]
  },
  {
   "cell_type": "code",
   "execution_count": 40,
   "metadata": {},
   "outputs": [
    {
     "data": {
      "text/plain": [
       "0.7963957055214724"
      ]
     },
     "execution_count": 40,
     "metadata": {},
     "output_type": "execute_result"
    }
   ],
   "source": [
    "# proportion of patients without cancer who test negative\n",
    "(df.query('has_cancer ==False')['test_result'] == 'Negative').mean()"
   ]
  },
  {
   "cell_type": "code",
   "execution_count": null,
   "metadata": {},
   "outputs": [],
   "source": []
  }
 ],
 "metadata": {
  "kernelspec": {
   "display_name": "Python 3",
   "language": "python",
   "name": "python3"
  },
  "language_info": {
   "codemirror_mode": {
    "name": "ipython",
    "version": 3
   },
   "file_extension": ".py",
   "mimetype": "text/x-python",
   "name": "python",
   "nbconvert_exporter": "python",
   "pygments_lexer": "ipython3",
   "version": "3.6.3"
  }
 },
 "nbformat": 4,
 "nbformat_minor": 2
}
